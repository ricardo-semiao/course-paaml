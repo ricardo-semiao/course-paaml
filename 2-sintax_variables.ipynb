{
 "cells": [
  {
   "cell_type": "markdown",
   "metadata": {},
   "source": [
    "# 2. Sintaxe e Variáveis\n",
    "\n",
    "[Parte do material abaixo ainda é composto de referências, e não é 100% autoral, mas tudo teve pelo menos contribuições pessoais.]"
   ]
  },
  {
   "cell_type": "markdown",
   "metadata": {},
   "source": [
    "## Sintaxe\n",
    "\n",
    "Em termos simplistas, um _script_ é um arquivo de texto com instruções a serem executadas por um computador que antes traduzirá o arquivo para linguagem de máquina.\n",
    "\n",
    "Um _script_ é um texto instrucional como qualquer outro, escrito em um tipo de linguagem especial, \"de programação\", ou \"código\", mas é um texto. Pode similar à receita de bolo de cenoura da minha vó, ou o roteiro da peça escolar onde interpretei, com maestria, a árvore #3.\n",
    "\n",
    "Como em qualquer linguagem, temos um vocabulário à disposição, um conjunto de _palavras_ (ou _tokens_) existentes, organizadas em categorias como substantivos, adjetivos, etc. Nós combinamos as palavras em _frases_ (ou _statements_) para descrever as instruções. Por fim, organizamos o texto em _parágrafos_ (ou _blocks_), conjuntos de frases que devem ser lidas juntas, para definir a estrutura e facilitar o entendimento do texto.\n",
    "\n",
    "Ok, a receita da minha vó não tinha parágrafos, a metáfora não é perfeita, paciência.\n",
    "\n",
    "[a fazer]"
   ]
  },
  {
   "cell_type": "markdown",
   "metadata": {},
   "source": [
    "## Variáveis\n",
    "\n",
    "[a fazer]"
   ]
  },
  {
   "cell_type": "markdown",
   "metadata": {},
   "source": [
    "## Operadores\n",
    "\n",
    "[a fazer]"
   ]
  }
 ],
 "metadata": {
  "language_info": {
   "name": "python"
  }
 },
 "nbformat": 4,
 "nbformat_minor": 2
}
