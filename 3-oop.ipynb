{
 "cells": [
  {
   "cell_type": "markdown",
   "metadata": {},
   "source": [
    "# 3. OOP\n",
    "\n",
    "[Parte do material abaixo ainda é composto de referências, e não é 100% autoral, mas tudo teve pelo menos contribuições pessoais.]"
   ]
  },
  {
   "cell_type": "markdown",
   "metadata": {},
   "source": [
    "### Classes, objetos, e métodos\n",
    "\n",
    "As classes são compostas de\n",
    "\n",
    "+ **Atributos** ou **Propriedades** (*Attributes* ou *Properties*): São dados ou estados característicos daquela classe. Por exemplo, a classe \"ações\" pode ser modelada como tendo um preço médio, um volume diário, e um ticker.\n",
    "\n",
    "+ **Métodos**: São as funções que são específicos daquela classe, muitas vezes utilizam os próprios atributos da classe para realizar uma operação. Por exemplo, pode-se criar um método na classe \"ações\" que mutliplique o preço médio pelo volume diário para se obter o volume financeiro médio.\n",
    "\n",
    "Mas então, o que são os objetos?\n",
    "\n",
    "+ **Classe** (*class*), estrutura de dados / procedimentos / funções que podem se repetir no programa, e;\n",
    "\n",
    "+ **Objeto** (*object*), instâncias (exemplos específicos) das classes.\n",
    "\n",
    "Qualquer estrutura que possua múltiplas instâncias pode ser caracterizada como uma classe (*class*), e qualquer instância/exemplo dessa estrutura pode ser um objeto (*object*)."
   ]
  },
  {
   "cell_type": "markdown",
   "metadata": {},
   "source": [
    "### Criando classes e objetos\n",
    "\n",
    "Usamos a palavra ***class***, o nome da classe (com a primeira letra em maísculo, por convenção), e \"()\", indicando uma ação (no caso, criar um objeto da classe).\n",
    "\n",
    "Normalmente a definição de uma classe começa pelo método __init__. ele é um método especial, o método construtor, e indica que todas as linhas subordinadas a ele devem ser executadas quando um objeto daquela classe é criado. As linhas que estão subordinadas ao método __init__ são aquelas que estabelecem os atributos.\n",
    "\n",
    "Além disso, a palavra self é uma referência a todos os atributos de um objeto. Os métodos levam como argumento o próprio objeto em si, ou seja, o método que tem self como argumento pode acessar e trabalhar com todos os elementos do objeto em si.\n",
    "\n",
    "Depois do método construtor (__init__), em geral, vêm os métodos ordinários, aqueles que executam ações."
   ]
  },
  {
   "cell_type": "code",
   "execution_count": null,
   "metadata": {},
   "outputs": [],
   "source": [
    "class aluno():\n",
    "  #criando atributos\n",
    "    def __init__(self,nome,nota1,nota2):\n",
    "        self.nome = nome\n",
    "        self.nota1 = nota1\n",
    "        self.nota2 = nota2\n",
    "  #criando funções\n",
    "    def media(self):\n",
    "        return (self.nota1 + self.nota2) / 2\n",
    "a = [1, 2, 3, ...]"
   ]
  },
  {
   "cell_type": "code",
   "execution_count": null,
   "metadata": {},
   "outputs": [
    {
     "name": "stdout",
     "output_type": "stream",
     "text": [
      "Michel 8.5\n"
     ]
    }
   ],
   "source": [
    "michel = aluno(nome = \"Michel\", nota1 = 7, nota2 = 10)\n",
    "print(michel.nome,michel.media())"
   ]
  },
  {
   "cell_type": "code",
   "execution_count": null,
   "metadata": {},
   "outputs": [],
   "source": [
    "class Stocks():\n",
    "    def __init__(self, ticker_name, price_inDolars, volume_inUnits, beta_float,\n",
    "                 divDate_string, enterpriseValue_inDolars, price_inList):\n",
    "        self.ticker = ticker_name # preenchendo name com o valor referente ao argumento full_name\n",
    "        self.price_last = price_inDolars\n",
    "        self.volume_last_day = volume_inUnits\n",
    "        self.beta = beta_float\n",
    "        self.divDate = divDate_string\n",
    "        self.enterpriseValue = enterpriseValue_inDolars\n",
    "        self.price_hist = price_inList\n",
    "        self.portShare = 0# não vem de argumento, sempre uma ação começa com esse valor de argumento\n",
    "\n",
    "    def eatfinVolume(self): # self entra como argumento para que o procedimento possa acessar os atributos e seus valores.\n",
    "        return self.price_last * self.volume_last_day\n",
    "\n",
    "    def addPrice(self, price):\n",
    "        self.price_hist.append(price)\n",
    "\n",
    "    def changeShare(self, newshare):\n",
    "        self.portShare = newshare\n",
    "\n",
    "    def printPrice(self):\n",
    "        print(\"The stock \" + self.ticker + \" has a last price of \" + str(self.price_last))\n",
    "\n",
    "    def __str__(self):\n",
    "        return \"The stock \" + str(self.ticker) + \" has a last price of \" + str(self.price_last)"
   ]
  },
  {
   "cell_type": "code",
   "execution_count": null,
   "metadata": {},
   "outputs": [
    {
     "name": "stdout",
     "output_type": "stream",
     "text": [
      "PETR4.SA\n",
      "The stock PETR4.SA has a last price of 30.13\n",
      "31.23\n",
      "Brazil\n",
      "The stock PETR4.SA has a last price of 31.23\n"
     ]
    }
   ],
   "source": [
    "petr = Stocks(ticker_name = \"PETR4.SA\",\n",
    "              price_inDolars = 30.13,\n",
    "              volume_inUnits = 93824145,\n",
    "              beta_float = 1.33,\n",
    "              divDate_string = \"Aug 12, 2022\",\n",
    "              enterpriseValue_inDolars = 594060000000,\n",
    "              price_inList = [29.80, 30.39, 29.44])\n",
    "\n",
    "print(petr.ticker)\n",
    "\n",
    "petr.eatfinVolume()\n",
    "\n",
    "petr.printPrice()\n",
    "\n",
    "petr.price_last = 31.23\n",
    "print(petr.price_last)\n",
    "\n",
    "petr.nationality = \"Brazil\"\n",
    "print(petr.nationality)\n",
    "\n",
    "print(petr)"
   ]
  }
 ],
 "metadata": {
  "language_info": {
   "name": "python"
  }
 },
 "nbformat": 4,
 "nbformat_minor": 2
}
