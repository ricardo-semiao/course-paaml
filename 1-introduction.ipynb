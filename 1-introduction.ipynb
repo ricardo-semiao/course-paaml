{
 "cells": [
  {
   "cell_type": "markdown",
   "metadata": {},
   "source": [
    "# 1. Introdução\n",
    "\n",
    "Seja bem vindo à introdução deste material sobre Python. Note alguns pontos importantes:\n",
    "\n",
    "- Este material é um material de estudo pessoal, e nem sempre foi escrito em um estilo explicativo, nem com a preocupação de deixar boas práticas claras, e corrigir possíveis erros.\n",
    "- Este material está em construção e constante mudança.\n",
    "\n",
    "[Parte do material abaixo ainda é composto de referências, e não é 100% autoral, mas tudo teve pelo menos contribuições pessoais.]"
   ]
  },
  {
   "cell_type": "markdown",
   "metadata": {},
   "source": [
    "## História\n",
    "\n",
    "[a fazer]"
   ]
  },
  {
   "cell_type": "markdown",
   "metadata": {},
   "source": [
    "## Características da Linguagem, e “Porque Python?”\n",
    "\n",
    "[a fazer]"
   ]
  },
  {
   "cell_type": "markdown",
   "metadata": {},
   "source": [
    "## Literatura sobre Python\n",
    "\n",
    "[a fazer]"
   ]
  },
  {
   "cell_type": "markdown",
   "metadata": {},
   "source": [
    "## Instalação, Interface, e Ferramentas\n",
    "\n",
    "[a fazer]"
   ]
  }
 ],
 "metadata": {
  "language_info": {
   "name": "python"
  }
 },
 "nbformat": 4,
 "nbformat_minor": 2
}
