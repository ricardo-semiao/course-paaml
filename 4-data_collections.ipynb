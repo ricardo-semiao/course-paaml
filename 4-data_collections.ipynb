{
 "cells": [
  {
   "cell_type": "markdown",
   "metadata": {},
   "source": [
    "# 4. Tipos de Dados e Coleções\n",
    "\n",
    "[Parte do material abaixo ainda é composto de referências, e não é 100% autoral, mas tudo teve pelo menos contribuições pessoais.]"
   ]
  },
  {
   "cell_type": "markdown",
   "metadata": {},
   "source": [
    "## Tipos de Dados\n",
    "\n",
    "[a fazer]"
   ]
  },
  {
   "cell_type": "markdown",
   "metadata": {},
   "source": [
    "## Coleções\n",
    "\n",
    "O nome coleções vem de \"conjunto\" de dados, e existem quatro tipos diferentes, que servem para objetivos diferentes, baseados em suas características:\n",
    "\n",
    "|  | Ordenado | Mutável | Duplicatas |\n",
    "| --- | --- | --- | --- |\n",
    "| Listas | sim | sim | sim |\n",
    "| Tuples | sim | não | sim |\n",
    "| Sets | não | não | não |\n",
    "| Dicionários | sim | sim | não |\n",
    "\n",
    "Em termos mais simples listas são as mais flexíveis e menos específicas, tuples são listas imutáveis, e dicionários são listas nomeadas. Sets, os mais restritivos, funcionam como o conceito de \"conjunto\" da matemática.\n",
    "\n",
    "Cada coleção tem seus próprios métodos, dêem uma olhada neles nos tutoriais abaixo:\n",
    "\n",
    "+ W3Schools: https://www.w3schools.com/python/python_lists.asp (mais simples e sucinto);\n",
    "+ Documentação do Python: https://docs.python.org/3/tutorial/datastructures.html#tuples-and-sequences (mais técnico, mais informações)."
   ]
  },
  {
   "cell_type": "markdown",
   "metadata": {},
   "source": [
    "## Arrays e o Numpy\n",
    "\n",
    "[a fazer]"
   ]
  },
  {
   "cell_type": "markdown",
   "metadata": {},
   "source": [
    "## Data frames e o Pandas\n",
    "\n",
    "[a fazer]"
   ]
  }
 ],
 "metadata": {
  "language_info": {
   "name": "python"
  }
 },
 "nbformat": 4,
 "nbformat_minor": 2
}
