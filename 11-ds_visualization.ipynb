{
 "cells": [
  {
   "cell_type": "markdown",
   "metadata": {},
   "source": [
    "# Visualização de Dados\n",
    "\n",
    "[Parte do material abaixo ainda é composto de referências, e não é 100% autoral, mas tudo teve pelo menos contribuições pessoais.]"
   ]
  },
  {
   "cell_type": "markdown",
   "metadata": {},
   "source": [
    "## GGPlot\n",
    "\n",
    "[a fazer]"
   ]
  },
  {
   "cell_type": "markdown",
   "metadata": {},
   "source": [
    "## Matplotlib\n",
    "\n",
    "[a fazer]"
   ]
  },
  {
   "cell_type": "markdown",
   "metadata": {},
   "source": [
    "[alguns links: https://matplotlib.org/stable/users/explain/quick_start.html;\n",
    "https://matplotlib.org/3.8.3/users/index.html;\n",
    "https://matplotlib.org/cheatsheets/_images/cheatsheets-1.png;\n",
    "https://matplotlib.org/3.8.3/index.html, https://matplotlib.org/3.8.3/api/index.html]\n",
    "### Anatomia de uma figura\n",
    "\n",
    "<img src=\"https://matplotlib.org/stable/_images/anatomy.png\" width=\"300\">\n",
    "\n",
    "- Figure\n",
    "- Axis\n",
    "- Artist\n",
    "\n",
    "[explicar isso dai]\n",
    "### O estilo da programação\n",
    "\n",
    "[explicar https://matplotlib.org/stable/users/explain/quick_start.html#coding-styles por cima e apresentar um exemplo)\n",
    "### Plots\n",
    "\n",
    "[explicar os plots possíveis]\n",
    "### Estética\n",
    "\n",
    "[alterando a estética dos dados, isto é, cores, markers, etc.]\n",
    "### Tema\n",
    "\n",
    "[alterando a estética da figura (não dos dados), isto é, eixos, título, etc.]\n",
    "### Plots combinados\n",
    "\n",
    "[subplots e tals]"
   ]
  }
 ],
 "metadata": {
  "language_info": {
   "name": "python"
  }
 },
 "nbformat": 4,
 "nbformat_minor": 2
}
