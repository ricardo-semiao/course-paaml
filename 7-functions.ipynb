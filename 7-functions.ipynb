{
 "cells": [
  {
   "cell_type": "markdown",
   "metadata": {},
   "source": [
    "# Funções\n",
    "\n",
    "[Parte do material abaixo ainda é composto de referências, e não é 100% autoral, mas tudo teve pelo menos contribuições pessoais.]"
   ]
  },
  {
   "cell_type": "markdown",
   "metadata": {},
   "source": [
    "## Sintaxe e Argumentos\n",
    "\n",
    "[a fazer]"
   ]
  },
  {
   "cell_type": "markdown",
   "metadata": {},
   "source": [
    "## Funções Lambda\n",
    "\n",
    "[a fazer]"
   ]
  },
  {
   "cell_type": "markdown",
   "metadata": {},
   "source": [
    "## Argumentos Extras"
   ]
  },
  {
   "cell_type": "markdown",
   "metadata": {},
   "source": [
    "O operador * e ** são operadores de \"desempacotamento\". Transformam uma lista\n",
    "\n",
    "*   Item da lista\n",
    "*   Item da lista\n",
    "\n",
    "em vários argumentos \"soltos\". Suponha que você tenha uma lista de argumentos que quer passar para uma função, no lugar de pegar cada elemento da lista individualmente, você pode usar *:"
   ]
  },
  {
   "cell_type": "code",
   "execution_count": null,
   "metadata": {},
   "outputs": [
    {
     "name": "stdout",
     "output_type": "stream",
     "text": [
      "1 2 3\n",
      "1 2 3\n",
      "1 2 3\n"
     ]
    }
   ],
   "source": [
    "args = [1, 2, 3]\n",
    "\n",
    "print(1, 2, 3) #resultado quisto\n",
    "print(args[0], args[1], args[2]) #pior\n",
    "print(*args) #melhor"
   ]
  },
  {
   "cell_type": "markdown",
   "metadata": {},
   "source": [
    "O operador `**` é similar, mas transforma um dicionário em vários argumentos nomeados:"
   ]
  },
  {
   "cell_type": "code",
   "execution_count": null,
   "metadata": {},
   "outputs": [
    {
     "name": "stdout",
     "output_type": "stream",
     "text": [
      "1-2-3!\n",
      "1-2-3!\n",
      "1-2-3!\n"
     ]
    }
   ],
   "source": [
    "args = (1, 2, 3)\n",
    "kwargs = {'sep': '-', 'end': '!\\n'}\n",
    "\n",
    "print(1, 2, 3, sep = '-', end = '!\\n') #resultado quisto\n",
    "print(args[0], args[1], args[2], sep = kwargs['sep'], end = kwargs['end']) #pior\n",
    "print(*args, **kwargs) #melhor"
   ]
  },
  {
   "cell_type": "markdown",
   "metadata": {},
   "source": [
    "Também podemos fazer a operação inversa, criar uma função que receba um número desconhecido de argumentos (soltos/desempacotados). Podemos preceder qualquer nome de argumento com `*` ou `**`, e eles coletarão argumentos não utilizados, e os empacotarão em uma tuple e dicionário, respectivamente."
   ]
  },
  {
   "cell_type": "code",
   "execution_count": null,
   "metadata": {},
   "outputs": [
    {
     "name": "stdout",
     "output_type": "stream",
     "text": [
      "(1, 2, 3)\n",
      "None\n",
      "{'um': 1, 'dois': 2, 'tres': 3}\n"
     ]
    }
   ],
   "source": [
    "def f(a, *args):\n",
    "  print(args)\n",
    "\n",
    "print(f(4, 1, 2, 3)) # a = 4 !!!\n",
    "\n",
    "def g(a, **kwargs):\n",
    "  print(kwargs)\n",
    "\n",
    "g(4, um = 1, dois = 2, tres = 3)"
   ]
  },
  {
   "cell_type": "markdown",
   "metadata": {},
   "source": [
    "Isso é útil porque a partir disso, podemos utilizar esses argumetos com base nos métodos de dicionário e tuples. Ou, podemos desempacotar e passá-los diretamente à outras funções:"
   ]
  },
  {
   "cell_type": "code",
   "execution_count": null,
   "metadata": {},
   "outputs": [
    {
     "name": "stdout",
     "output_type": "stream",
     "text": [
      "21\n",
      "oi, olá!"
     ]
    }
   ],
   "source": [
    "def my_sum(*args):\n",
    "    result = 0\n",
    "    for x in args:\n",
    "        result += x\n",
    "    print(result)\n",
    "\n",
    "my_sum(1, 2, 3, 4, 5, 6)\n",
    "\n",
    "def my_print(*args, **kwargs):\n",
    "  print(*args, **kwargs)\n",
    "\n",
    "my_print('oi', 'olá', sep = ', ', end = '!')"
   ]
  },
  {
   "cell_type": "code",
   "execution_count": null,
   "metadata": {},
   "outputs": [
    {
     "name": "stdout",
     "output_type": "stream",
     "text": [
      "[20.761245674740486, 22.857142857142858, 24.691358024691358]\n"
     ]
    }
   ],
   "source": [
    "def calcular_imc(*args, **kwargs):\n",
    "    resultados = []\n",
    "\n",
    "    for i, pessoa in enumerate(args):\n",
    "        peso = kwargs.get(f'peso{i}', None)\n",
    "        altura = kwargs.get(f'altura{i}', None)\n",
    "\n",
    "        if peso is None or altura is None:\n",
    "            print(f\"Faltam dados para a pessoa {i+1}. Peso e altura são necessários.\")\n",
    "            continue\n",
    "\n",
    "        if peso <= 0 or altura <= 0:\n",
    "            print(f\"Valores inválidos para a pessoa {i+1}. Peso e altura devem ser positivos.\")\n",
    "            continue\n",
    "\n",
    "        imc = peso / (altura ** 2)\n",
    "        resultados.append(imc)\n",
    "\n",
    "    return resultados\n",
    "\n",
    "imcs = calcular_imc(1,2,3, peso0=60, altura0=1.7, peso1=70, altura1=1.75, peso2=80, altura2=1.8)\n",
    "print(imcs)"
   ]
  },
  {
   "cell_type": "markdown",
   "metadata": {},
   "source": [
    "## Ambientes e Busca de Valores"
   ]
  },
  {
   "cell_type": "markdown",
   "metadata": {},
   "source": [
    "[a fazer]"
   ]
  },
  {
   "cell_type": "code",
   "execution_count": null,
   "metadata": {},
   "outputs": [
    {
     "data": {
      "text/plain": [
       "[10, 20, 3, 4]"
      ]
     },
     "metadata": {},
     "output_type": "display_data"
    }
   ],
   "source": [
    "a = 1\n",
    "b = 2\n",
    "c = 3\n",
    "d = 4\n",
    "\n",
    "def fun(a, **kargs):\n",
    "    b = 20\n",
    "    return [a, b, c, d]\n",
    "\n",
    "fun(a = 10, c = 30)"
   ]
  },
  {
   "cell_type": "code",
   "execution_count": null,
   "metadata": {},
   "outputs": [
    {
     "ename": "NameError",
     "evalue": "name 'e' is not defined",
     "output_type": "error",
     "traceback": [
      "\u001b[0;31m---------------------------------------------------------------------------\u001b[0m\n",
      "\u001b[0;31mNameError\u001b[0m                                 Traceback (most recent call last)\n",
      "\u001b[0;32m<ipython-input-3-56c0a5be40be>\u001b[0m in \u001b[0;36m<cell line: 5>\u001b[0;34m()\u001b[0m\n",
      "\u001b[1;32m      3\u001b[0m     \u001b[0;32mreturn\u001b[0m \u001b[0;34m[\u001b[0m\u001b[0ma\u001b[0m\u001b[0;34m,\u001b[0m \u001b[0mb\u001b[0m\u001b[0;34m,\u001b[0m \u001b[0mc\u001b[0m\u001b[0;34m,\u001b[0m \u001b[0md\u001b[0m\u001b[0;34m,\u001b[0m \u001b[0me\u001b[0m\u001b[0;34m]\u001b[0m\u001b[0;34m\u001b[0m\u001b[0;34m\u001b[0m\u001b[0m\n",
      "\u001b[1;32m      4\u001b[0m \u001b[0;34m\u001b[0m\u001b[0m\n",
      "\u001b[0;32m----> 5\u001b[0;31m \u001b[0mfun\u001b[0m\u001b[0;34m(\u001b[0m\u001b[0ma\u001b[0m \u001b[0;34m=\u001b[0m \u001b[0;36m10\u001b[0m\u001b[0;34m,\u001b[0m \u001b[0mc\u001b[0m \u001b[0;34m=\u001b[0m \u001b[0;36m30\u001b[0m\u001b[0;34m)\u001b[0m\u001b[0;34m\u001b[0m\u001b[0;34m\u001b[0m\u001b[0m\n",
      "\u001b[0m\n",
      "\u001b[0;32m<ipython-input-3-56c0a5be40be>\u001b[0m in \u001b[0;36mfun\u001b[0;34m(a, **kargs)\u001b[0m\n",
      "\u001b[1;32m      1\u001b[0m \u001b[0;32mdef\u001b[0m \u001b[0mfun\u001b[0m\u001b[0;34m(\u001b[0m\u001b[0ma\u001b[0m\u001b[0;34m,\u001b[0m \u001b[0;34m**\u001b[0m\u001b[0mkargs\u001b[0m\u001b[0;34m)\u001b[0m\u001b[0;34m:\u001b[0m\u001b[0;34m\u001b[0m\u001b[0;34m\u001b[0m\u001b[0m\n",
      "\u001b[1;32m      2\u001b[0m     \u001b[0mb\u001b[0m \u001b[0;34m=\u001b[0m \u001b[0;36m20\u001b[0m\u001b[0;34m\u001b[0m\u001b[0;34m\u001b[0m\u001b[0m\n",
      "\u001b[0;32m----> 3\u001b[0;31m     \u001b[0;32mreturn\u001b[0m \u001b[0;34m[\u001b[0m\u001b[0ma\u001b[0m\u001b[0;34m,\u001b[0m \u001b[0mb\u001b[0m\u001b[0;34m,\u001b[0m \u001b[0mc\u001b[0m\u001b[0;34m,\u001b[0m \u001b[0md\u001b[0m\u001b[0;34m,\u001b[0m \u001b[0me\u001b[0m\u001b[0;34m]\u001b[0m\u001b[0;34m\u001b[0m\u001b[0;34m\u001b[0m\u001b[0m\n",
      "\u001b[0m\u001b[1;32m      4\u001b[0m \u001b[0;34m\u001b[0m\u001b[0m\n",
      "\u001b[1;32m      5\u001b[0m \u001b[0mfun\u001b[0m\u001b[0;34m(\u001b[0m\u001b[0ma\u001b[0m \u001b[0;34m=\u001b[0m \u001b[0;36m10\u001b[0m\u001b[0;34m,\u001b[0m \u001b[0mc\u001b[0m \u001b[0;34m=\u001b[0m \u001b[0;36m30\u001b[0m\u001b[0;34m)\u001b[0m\u001b[0;34m\u001b[0m\u001b[0;34m\u001b[0m\u001b[0m\n",
      "\n",
      "\u001b[0;31mNameError\u001b[0m: name 'e' is not defined"
     ]
    }
   ],
   "source": [
    "def fun(a, **kargs):\n",
    "    b = 20\n",
    "    return [a, b, c, d, e]\n",
    "\n",
    "fun(a = 10, c = 30)"
   ]
  }
 ],
 "metadata": {
  "language_info": {
   "name": "python"
  }
 },
 "nbformat": 4,
 "nbformat_minor": 2
}
